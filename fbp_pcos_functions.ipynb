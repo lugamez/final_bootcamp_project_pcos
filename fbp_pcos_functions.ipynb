{
 "cells": [
  {
   "cell_type": "code",
   "execution_count": 1,
   "metadata": {},
   "outputs": [
    {
     "name": "stderr",
     "output_type": "stream",
     "text": [
      "/var/folders/qs/x8zhfsxx1635k24vswp2rjq80000gn/T/ipykernel_18425/555797462.py:1: DeprecationWarning: \n",
      "Pyarrow will become a required dependency of pandas in the next major release of pandas (pandas 3.0),\n",
      "(to allow more performant data types, such as the Arrow string type, and better interoperability with other libraries)\n",
      "but was not found to be installed on your system.\n",
      "If this would cause problems for you,\n",
      "please provide us feedback at https://github.com/pandas-dev/pandas/issues/54466\n",
      "        \n",
      "  import pandas as pd\n"
     ]
    }
   ],
   "source": [
    "import pandas as pd\n",
    "import numpy as np\n",
    "import matplotlib.pyplot as plt\n",
    "import seaborn as sns"
   ]
  },
  {
   "cell_type": "code",
   "execution_count": null,
   "metadata": {},
   "outputs": [],
   "source": [
    "# Function to rename columns\n",
    "\n",
    "def rename_columns(df: pd.DataFrame) -> pd.DataFrame:\n",
    "    '''\n",
    "    This function picks a Pandas DataFrame and renames specific columns in lower case\n",
    "    Inputs:\n",
    "    df: Pandas DataFrame\n",
    "    Outputs:\n",
    "    A Pandas DataFrame with renamed columns and in lower case\n",
    "    '''\n",
    "\n",
    "    columns = []\n",
    "    for colname in df.columns:\n",
    "        columns.append(colname.lower())\n",
    "            \n",
    "    df.columns = columns\n",
    "    df = df.rename(columns={'pcos (y/n)':'has_pcos',\n",
    "                                ' age (yrs)':'age',\n",
    "                                'blood group':'blood_group',\n",
    "                                'pulse rate(bpm) ':'pulse_rate',\n",
    "                                'rr (breaths/min)':'respiratory_rate',\n",
    "                                'hb(g/dl)':'hb',\n",
    "                                'cycle(r/i)':'cycle_type',\n",
    "                                'cycle length(days)':'menstrual_phase_days',\n",
    "                                'pregnant(y/n)':'is_pregnant',\n",
    "                                'no. of aborptions':'n_of_abortions',\n",
    "                                'beta-hcg(miu/ml)_first':'beta_hcg_first',\n",
    "                                'beta-hcg(miu/ml)_second':'beta_hcg_second',\n",
    "                                'fsh/lh':'fsh_lh_ratio',\n",
    "                                'waist:hip ratio':'waist_hip_ratio',\n",
    "                                'tsh (miu/l)':'tsh',\n",
    "                                'amh(ng/ml)':'amh',\n",
    "                                'prl(ng/ml)':'prl',\n",
    "                                'vit d3 (ng/ml)':'vit_d3',\n",
    "                                'prg(ng/ml)':'prg',\n",
    "                                'rbs(mg/dl)':'rbs',\n",
    "                                'weight gain(y/n)':'has_weight_gain',\n",
    "                                'hair growth(y/n)':'has_hair_growth',\n",
    "                                'skin darkening (y/n)':'has_skin_darkening',\n",
    "                                'hair loss(y/n)':'has_hair_loss',\n",
    "                                'pimples(y/n)':'has_pimples',\n",
    "                                'fast food (y/n)':'eats_fast_food',\n",
    "                                'reg.exercise(y/n)':'exercises_reg',\n",
    "                                'bp _systolic (mmhg)':'blood_pressure_systolic',\n",
    "                                'bp _diastolic (mmhg)':'blood_pressure_diastolic',\n",
    "                                'follicle no. (l)':'n_of_follicles_left',\n",
    "                                'follicle no. (r)':'n_of_follicles_right',\n",
    "                                'avg. f size (l) (mm)':'avg_follicle_size_left',\n",
    "                                'avg. f size (r) (mm)':'avg_follicle_size_right',\n",
    "                                'endometrium (mm)':'endometrium_size',\n",
    "                                }, inplace=True)\n",
    "        \n",
    "    return df"
   ]
  },
  {
   "cell_type": "code",
   "execution_count": null,
   "metadata": {},
   "outputs": [],
   "source": [
    "# Function to change separator in values\n",
    "\n",
    "def change_separator(df: pd.DataFrame) -> pd.DataFrame:\n",
    "    '''\n",
    "    This function takes a dataframe with commas as separators in its columns and changes them dots\n",
    "    Inputs:\n",
    "    df: Pandas DataFrame\n",
    "    Outputs:\n",
    "    A Pandas DataFrame with values with dots as separators\n",
    "     '''\n",
    "\n",
    "    columns = []\n",
    "    for col_name in df.select_dtypes(include='object').columns:\n",
    "        df[col_name] = df[col_name].str.replace(',', '.')\n",
    "    \n",
    "    return df"
   ]
  },
  {
   "cell_type": "code",
   "execution_count": null,
   "metadata": {},
   "outputs": [],
   "source": [
    "# Function to split dataframes into continuous and discrete\n",
    "\n",
    "def split_dataframes(df: pd.DataFrame):\n",
    "    '''\n",
    "    Insert one dataframe will all data and return two: one with float64 variables and another with int64\n",
    "    '''\n",
    "\n",
    "    continuous_cols = df.select_dtypes(include=['float64']).columns\n",
    "    discrete_cols = df.select_dtypes(include=['int64']).columns\n",
    "    \n",
    "    continuous_df = df[continuous_cols]\n",
    "    discrete_df = df[discrete_cols]\n",
    "    \n",
    "    return continuous_df, discrete_df"
   ]
  },
  {
   "cell_type": "code",
   "execution_count": null,
   "metadata": {},
   "outputs": [],
   "source": [
    "# Function to create histograms for continuous variables\n",
    "\n",
    "def create_histograms(df: pd.DataFrame):\n",
    "    '''\n",
    "    This function histograms for all the columns in a dataframe that only has continuous variables\n",
    "    '''\n",
    "\n",
    "    num_cols = df.shape[1]\n",
    "    num_rows = num_cols // 3 + 1\n",
    "    \n",
    "    fig, axes = plt.subplots(3, num_rows, figsize=(12, 12))\n",
    "\n",
    "    axes = axes.flatten()\n",
    "\n",
    "    for i, column in enumerate(df.columns):\n",
    "        sns.histplot(df, x = column, bins=50, ax=axes[i])\n",
    "\n",
    "    plt.tight_layout()\n",
    "    plt.show()"
   ]
  },
  {
   "cell_type": "code",
   "execution_count": null,
   "metadata": {},
   "outputs": [],
   "source": [
    "# Function to create barplots for discrete variables\n",
    "\n",
    "def create_barplots(df: pd.DataFrame):\n",
    "    '''\n",
    "    This function creates barplots for all the columns in a dataframe that only has discrete variables\n",
    "    '''\n",
    "\n",
    "    num_cols = df.shape[1]\n",
    "    num_rows = num_cols // 2 + 1\n",
    "    \n",
    "    fig, axes = plt.subplots(2, num_rows, figsize=(10, 10))\n",
    "\n",
    "    axes = axes.flatten()\n",
    "\n",
    "    for i, column in enumerate(df.columns):\n",
    "        sns.histplot(x=column, data=df, ax=axes[i])\n",
    "        #ax[i].set_ylim(0, 8000)\n",
    "\n",
    "    plt.tight_layout()\n",
    "    plt.show()"
   ]
  }
 ],
 "metadata": {
  "kernelspec": {
   "display_name": "final_bootcamp_project_env",
   "language": "python",
   "name": "python3"
  },
  "language_info": {
   "codemirror_mode": {
    "name": "ipython",
    "version": 3
   },
   "file_extension": ".py",
   "mimetype": "text/x-python",
   "name": "python",
   "nbconvert_exporter": "python",
   "pygments_lexer": "ipython3",
   "version": "3.11.7"
  }
 },
 "nbformat": 4,
 "nbformat_minor": 2
}
